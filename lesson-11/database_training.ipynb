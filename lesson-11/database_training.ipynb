{
 "cells": [
  {
   "cell_type": "code",
   "execution_count": 29,
   "metadata": {},
   "outputs": [],
   "source": [
    "import sqlite3"
   ]
  },
  {
   "cell_type": "code",
   "execution_count": 30,
   "metadata": {},
   "outputs": [],
   "source": [
    "connection = sqlite3.connect(\"test.db\")"
   ]
  },
  {
   "cell_type": "code",
   "execution_count": 31,
   "metadata": {},
   "outputs": [
    {
     "data": {
      "text/plain": [
       "sqlite3.Connection"
      ]
     },
     "execution_count": 31,
     "metadata": {},
     "output_type": "execute_result"
    }
   ],
   "source": [
    "type(connection)"
   ]
  },
  {
   "cell_type": "code",
   "execution_count": 38,
   "metadata": {},
   "outputs": [
    {
     "name": "stdout",
     "output_type": "stream",
     "text": [
      "('2025-03-16 13:16:49',)\n"
     ]
    }
   ],
   "source": [
    "con = sqlite3.connect(\":memory:\")\n",
    "\n",
    "cursor = con.cursor()\n",
    "\n",
    "query = \"Select datetime('now', 'localtime')\"\n",
    "time = cursor.execute(query)\n",
    "\n",
    "\n",
    "print(time.fetchone())\n",
    "con.close()"
   ]
  },
  {
   "cell_type": "code",
   "execution_count": 55,
   "metadata": {},
   "outputs": [],
   "source": [
    "with sqlite3.connect(\"test.db\") as connection:\n",
    "    cursor = connection.cursor()\n",
    "    cursor.execute(\"CREATE TABLE People(FirstName TEXT, LastName TEXT, Age INT)\")\n",
    "    cursor.execute(\"INSERT INTO People VALUES('Ron', 'Obvious', 42)\")\n",
    "    cursor.execute(\"INSERT INTO People VALUES('Luigi', 'Vercotti', 43)\")"
   ]
  },
  {
   "cell_type": "code",
   "execution_count": 56,
   "metadata": {},
   "outputs": [
    {
     "name": "stdout",
     "output_type": "stream",
     "text": [
      "('Ron', 'Obvious')\n",
      "('Luigi', 'Vercotti')\n"
     ]
    }
   ],
   "source": [
    "with sqlite3.connect(\"test.db\") as connection:\n",
    "    cursor = connection.cursor()\n",
    "    cursor.execute(\"SELECT FirstName, LastName FROM People\")\n",
    "\n",
    "    for row in cursor.fetchall():\n",
    "        print(row)"
   ]
  },
  {
   "cell_type": "code",
   "execution_count": 52,
   "metadata": {},
   "outputs": [],
   "source": [
    "with sqlite3.connect(\"test.db\") as connection:\n",
    "    cursor = connection.cursor()\n",
    "    cursor.execute(\"drop table People\")\n"
   ]
  },
  {
   "cell_type": "code",
   "execution_count": 57,
   "metadata": {},
   "outputs": [
    {
     "name": "stdout",
     "output_type": "stream",
     "text": [
      "(42, 'Obvious')\n",
      "(43, 'Vercotti')\n"
     ]
    }
   ],
   "source": [
    "with sqlite3.connect(\"test.db\") as connection:\n",
    "    cursor = connection.cursor()\n",
    "    cursor.execute(\"SELECT Age, LastName FROM People\")\n",
    "    for row in cursor.fetchall():\n",
    "        print(row)"
   ]
  },
  {
   "cell_type": "code",
   "execution_count": 64,
   "metadata": {},
   "outputs": [],
   "source": [
    "sql = \"\"\"\n",
    "Drop table if exists Students;\n",
    "\n",
    "Create Table Students(id int, major text, credits int);\n",
    "\n",
    "Insert into Students values\n",
    "(1, 'Math', 32),\n",
    "(2, 'Engineering', 45),\n",
    "(3, 'Science', 15),\n",
    "(4, 'Business', 50);\n",
    "\"\"\""
   ]
  },
  {
   "cell_type": "code",
   "execution_count": 67,
   "metadata": {},
   "outputs": [],
   "source": [
    "with sqlite3.connect(\"test.db\") as connection:\n",
    "    cursor = connection.cursor()\n",
    "    cursor.executescript(sql)\n"
   ]
  },
  {
   "cell_type": "code",
   "execution_count": 83,
   "metadata": {},
   "outputs": [
    {
     "data": {
      "text/plain": [
       "[(4, 'Business', 50), (2, 'Engineering', 45)]"
      ]
     },
     "execution_count": 83,
     "metadata": {},
     "output_type": "execute_result"
    }
   ],
   "source": [
    "with sqlite3.connect(\"test.db\") as connection:\n",
    "    cursor = connection.cursor()\n",
    "    query = \"Select * from Students order by Credits desc\"\n",
    "    data = cursor.execute(query)\n",
    "\n",
    "data.fetchmany(2)"
   ]
  },
  {
   "cell_type": "code",
   "execution_count": null,
   "metadata": {},
   "outputs": [],
   "source": [
    "3"
   ]
  }
 ],
 "metadata": {
  "kernelspec": {
   "display_name": "base",
   "language": "python",
   "name": "python3"
  },
  "language_info": {
   "codemirror_mode": {
    "name": "ipython",
    "version": 3
   },
   "file_extension": ".py",
   "mimetype": "text/x-python",
   "name": "python",
   "nbconvert_exporter": "python",
   "pygments_lexer": "ipython3",
   "version": "3.12.7"
  }
 },
 "nbformat": 4,
 "nbformat_minor": 2
}

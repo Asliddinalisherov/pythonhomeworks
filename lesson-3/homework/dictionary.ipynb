{
 "cells": [
  {
   "cell_type": "markdown",
   "metadata": {},
   "source": [
    "# Dictionary Answers"
   ]
  },
  {
   "cell_type": "markdown",
   "metadata": {},
   "source": [
    "### Exercise 1"
   ]
  },
  {
   "cell_type": "code",
   "execution_count": 5,
   "metadata": {},
   "outputs": [
    {
     "name": "stdout",
     "output_type": "stream",
     "text": [
      "Key not found\n"
     ]
    }
   ],
   "source": [
    "import ast\n",
    "dict_str = input()\n",
    "dict1 = ast.literal_eval(dict_str)\n",
    "key = input()\n",
    "value = dict1.get(key, 'Key not found')\n",
    "print(value)"
   ]
  },
  {
   "cell_type": "markdown",
   "metadata": {},
   "source": [
    "### Exercise 2"
   ]
  },
  {
   "cell_type": "code",
   "execution_count": null,
   "metadata": {},
   "outputs": [
    {
     "name": "stdout",
     "output_type": "stream",
     "text": [
      "True\n"
     ]
    }
   ],
   "source": [
    "import ast\n",
    "dict_str = input()\n",
    "dict1 = ast.literal_eval(dict_str)\n",
    "key = input()\n",
    "print(key in dict1)"
   ]
  },
  {
   "cell_type": "markdown",
   "metadata": {},
   "source": [
    "### Exercise 3"
   ]
  },
  {
   "cell_type": "code",
   "execution_count": 11,
   "metadata": {},
   "outputs": [
    {
     "data": {
      "text/plain": [
       "3"
      ]
     },
     "execution_count": 11,
     "metadata": {},
     "output_type": "execute_result"
    }
   ],
   "source": [
    "import ast\n",
    "dict_str = input()\n",
    "dict1 = ast.literal_eval(dict_str)\n",
    "itemlist = dict1.items()\n",
    "len(itemlist)"
   ]
  },
  {
   "cell_type": "markdown",
   "metadata": {},
   "source": [
    "### Exercise 4"
   ]
  },
  {
   "cell_type": "code",
   "execution_count": null,
   "metadata": {},
   "outputs": [
    {
     "name": "stdout",
     "output_type": "stream",
     "text": [
      "['name', 'age', 'city']\n"
     ]
    }
   ],
   "source": [
    "import ast\n",
    "dict_str = input()\n",
    "dict1 = ast.literal_eval(dict_str)\n",
    "keylist = list(dict1.keys())\n",
    "print(keylist)"
   ]
  },
  {
   "cell_type": "markdown",
   "metadata": {},
   "source": [
    "### Exercise 5"
   ]
  },
  {
   "cell_type": "code",
   "execution_count": 19,
   "metadata": {},
   "outputs": [
    {
     "name": "stdout",
     "output_type": "stream",
     "text": [
      "['Alice', 25, 'New York']\n"
     ]
    }
   ],
   "source": [
    "import ast\n",
    "dict_str = input()\n",
    "dict1 = ast.literal_eval(dict_str)\n",
    "valuelist = list(dict1.values())\n",
    "print(valuelist)"
   ]
  },
  {
   "cell_type": "markdown",
   "metadata": {},
   "source": [
    "### Exercise 6"
   ]
  },
  {
   "cell_type": "code",
   "execution_count": 100,
   "metadata": {},
   "outputs": [
    {
     "name": "stdout",
     "output_type": "stream",
     "text": [
      "{'a': 2, 'b': 5}\n"
     ]
    }
   ],
   "source": [
    "import ast\n",
    "dict_str = input()\n",
    "dict_str2 = input()\n",
    "dict1 = ast.literal_eval(dict_str)\n",
    "dict2 = ast.literal_eval(dict_str2)\n",
    "newdict = dict1.copy()\n",
    "newdict.update(dict2)\n",
    "print(newdict)"
   ]
  },
  {
   "cell_type": "markdown",
   "metadata": {},
   "source": [
    "### Exercise 7"
   ]
  },
  {
   "cell_type": "code",
   "execution_count": 21,
   "metadata": {},
   "outputs": [
    {
     "name": "stdout",
     "output_type": "stream",
     "text": [
      "{'name': 'Alice', 'city': 'New York'}\n"
     ]
    }
   ],
   "source": [
    "import ast\n",
    "dict_str = input()\n",
    "dict1 = ast.literal_eval(dict_str)\n",
    "removekey = input()\n",
    "dict1.pop(removekey, 'No key')\n",
    "print(dict1)"
   ]
  },
  {
   "cell_type": "markdown",
   "metadata": {},
   "source": [
    "### Exercise 8"
   ]
  },
  {
   "cell_type": "code",
   "execution_count": null,
   "metadata": {},
   "outputs": [],
   "source": [
    "empty_dict = dict()"
   ]
  },
  {
   "cell_type": "markdown",
   "metadata": {},
   "source": [
    "### Exercise 9"
   ]
  },
  {
   "cell_type": "code",
   "execution_count": 24,
   "metadata": {},
   "outputs": [
    {
     "name": "stdout",
     "output_type": "stream",
     "text": [
      "True\n"
     ]
    }
   ],
   "source": [
    "import ast\n",
    "dict_str = input()\n",
    "dict1 = ast.literal_eval(dict_str)\n",
    "print(dict1 == dict())"
   ]
  },
  {
   "cell_type": "markdown",
   "metadata": {},
   "source": [
    "### Exercise 10"
   ]
  },
  {
   "cell_type": "code",
   "execution_count": 26,
   "metadata": {},
   "outputs": [
    {
     "name": "stdout",
     "output_type": "stream",
     "text": [
      "('age', 25)\n"
     ]
    }
   ],
   "source": [
    "import ast\n",
    "dict_str = input()\n",
    "dict1 = ast.literal_eval(dict_str)\n",
    "key = input()\n",
    "if key in dict1:\n",
    "    pair = (key, dict1[key])\n",
    "    print(pair)\n",
    "else:\n",
    "    print(\"no key\")"
   ]
  },
  {
   "cell_type": "markdown",
   "metadata": {},
   "source": [
    "### Exercise 11"
   ]
  },
  {
   "cell_type": "code",
   "execution_count": null,
   "metadata": {},
   "outputs": [
    {
     "name": "stdout",
     "output_type": "stream",
     "text": [
      "{'name': 'Alice', 'age': 22, 'city': 'New York'}\n"
     ]
    }
   ],
   "source": [
    "import ast\n",
    "dict_str = input()\n",
    "dict1 = ast.literal_eval(dict_str)\n",
    "dict2 = eval(input('key and value To Update'))\n",
    "dict1.update(dict2)\n",
    "print(dict1)"
   ]
  },
  {
   "cell_type": "markdown",
   "metadata": {},
   "source": [
    "### Exercise 12"
   ]
  },
  {
   "cell_type": "code",
   "execution_count": 32,
   "metadata": {},
   "outputs": [
    {
     "name": "stdout",
     "output_type": "stream",
     "text": [
      "2 ['Alice', 22, 'New York', 'Alice']\n"
     ]
    }
   ],
   "source": [
    "import ast\n",
    "dict_str = input()\n",
    "dict1 = ast.literal_eval(dict_str)\n",
    "value = input()\n",
    "valuelist = list(dict1.values())\n",
    "total = 0\n",
    "for val in valuelist:\n",
    "    if val == value:\n",
    "        total+=1\n",
    "print(total,valuelist)"
   ]
  },
  {
   "cell_type": "markdown",
   "metadata": {},
   "source": [
    "### Exercise 13"
   ]
  },
  {
   "cell_type": "code",
   "execution_count": null,
   "metadata": {},
   "outputs": [
    {
     "name": "stdout",
     "output_type": "stream",
     "text": [
      "{'Alice': 'name', 25: 'age', 'New York': 'city'}\n"
     ]
    }
   ],
   "source": [
    "import ast\n",
    "dict_str = input()\n",
    "dict1 = ast.literal_eval(dict_str)\n",
    "newdict = dict()\n",
    "\n",
    "for key, value in dict1.items():\n",
    "    updatedict = {value : key}\n",
    "    newdict.update(updatedict)\n",
    "\n",
    "print(newdict)\n"
   ]
  },
  {
   "cell_type": "markdown",
   "metadata": {},
   "source": [
    "### Exercise 14"
   ]
  },
  {
   "cell_type": "code",
   "execution_count": 38,
   "metadata": {},
   "outputs": [
    {
     "name": "stdout",
     "output_type": "stream",
     "text": [
      "['name', 1, 2]\n"
     ]
    }
   ],
   "source": [
    "import ast\n",
    "dict_str = input()\n",
    "dict1 = ast.literal_eval(dict_str)\n",
    "val = input()\n",
    "keylist = []\n",
    "for key, value in dict1.items():\n",
    "    if val == value:\n",
    "        keylist.append(key)\n",
    "print(keylist)"
   ]
  },
  {
   "cell_type": "markdown",
   "metadata": {},
   "source": [
    "### Exercise 15"
   ]
  },
  {
   "cell_type": "code",
   "execution_count": 39,
   "metadata": {},
   "outputs": [
    {
     "name": "stdout",
     "output_type": "stream",
     "text": [
      "{'1': '12', '2': '23', '3': '12', '4': '23', '5': '12', '6': '23', '8': '58'}\n"
     ]
    }
   ],
   "source": [
    "keylist = input().split()\n",
    "valuelist = input().split()\n",
    "newdict = dict()\n",
    "\n",
    "for i in range(len(keylist)):\n",
    "    updatedict = {keylist[i]:valuelist[i]}\n",
    "    newdict.update(updatedict)\n",
    "print(newdict)\n"
   ]
  },
  {
   "cell_type": "markdown",
   "metadata": {},
   "source": [
    "### Exercise 16"
   ]
  },
  {
   "cell_type": "code",
   "execution_count": 66,
   "metadata": {},
   "outputs": [
    {
     "name": "stdout",
     "output_type": "stream",
     "text": [
      "there is dictionary value\n"
     ]
    }
   ],
   "source": [
    "import ast\n",
    "dict_str = input()\n",
    "dict1 = ast.literal_eval(dict_str)\n",
    "mylist = list(dict1.items())\n",
    "\n",
    "for i in range(len(mylist)):\n",
    "    if type(mylist[i][1]) == dict:\n",
    "        print('there is dictionary value')\n",
    "        break\n",
    "if  type(mylist[i][1]) != dict:\n",
    "    print(\"no dictionary value\")"
   ]
  },
  {
   "cell_type": "markdown",
   "metadata": {},
   "source": [
    "### Exercise 17"
   ]
  },
  {
   "cell_type": "code",
   "execution_count": 73,
   "metadata": {},
   "outputs": [
    {
     "data": {
      "text/plain": [
       "12"
      ]
     },
     "execution_count": 73,
     "metadata": {},
     "output_type": "execute_result"
    }
   ],
   "source": [
    "import ast\n",
    "dict_str = input()\n",
    "dict1 = ast.literal_eval(dict_str)\n",
    "mylist = list(dict1.items())\n",
    "newdict = dict()\n",
    "for i in range(len(mylist)):\n",
    "    if type(mylist[i][1]) == dict:\n",
    "        newdict = mylist[i][1]\n",
    "        break\n",
    "newlist = list(newdict.values())\n",
    "print(newlist[0])"
   ]
  },
  {
   "cell_type": "markdown",
   "metadata": {},
   "source": [
    "### Exercise 18"
   ]
  },
  {
   "cell_type": "code",
   "execution_count": 74,
   "metadata": {},
   "outputs": [
    {
     "name": "stdout",
     "output_type": "stream",
     "text": [
      "{'name': 'Alice', 'age': 25, 'city': 'New York', 'pok': 'default'}\n"
     ]
    }
   ],
   "source": [
    "import ast\n",
    "dict_str = input()\n",
    "dict1 = ast.literal_eval(dict_str)\n",
    "key = input()\n",
    "if key not in dict1:\n",
    "    updatedict = {key:'default'}\n",
    "dict1.update(updatedict)\n",
    "print(dict1)"
   ]
  },
  {
   "cell_type": "markdown",
   "metadata": {},
   "source": [
    "### Exercise 19"
   ]
  },
  {
   "cell_type": "code",
   "execution_count": 75,
   "metadata": {},
   "outputs": [
    {
     "name": "stdout",
     "output_type": "stream",
     "text": [
      "4\n"
     ]
    }
   ],
   "source": [
    "import ast\n",
    "dict_str = input()\n",
    "dict1 = ast.literal_eval(dict_str)\n",
    "uniquevaluetotal = len(set(list(dict1.values())))\n",
    "\n",
    "print(uniquevaluetotal)"
   ]
  },
  {
   "cell_type": "markdown",
   "metadata": {},
   "source": [
    "### Exercise 20"
   ]
  },
  {
   "cell_type": "code",
   "execution_count": 92,
   "metadata": {},
   "outputs": [
    {
     "name": "stdout",
     "output_type": "stream",
     "text": [
      "{'age': 25, 'city': 'New York', 'name': 'Alice', 'pok': 'default'}\n",
      "True\n"
     ]
    }
   ],
   "source": [
    "import ast\n",
    "dict_str = input()\n",
    "dict1 = ast.literal_eval(dict_str)\n",
    "keylist = list(dict1.keys())\n",
    "keylist.sort()\n",
    "\n",
    "newdict = {key:dict1[key] for key in keylist}\n",
    "\n",
    "print(newdict)\n"
   ]
  },
  {
   "cell_type": "markdown",
   "metadata": {},
   "source": [
    "### Exercise 21"
   ]
  },
  {
   "cell_type": "code",
   "execution_count": 89,
   "metadata": {},
   "outputs": [
    {
     "name": "stdout",
     "output_type": "stream",
     "text": [
      "{'Nge': '18', 'city': 'Aew York', 'lllll': 'aSSALOM', 'name': 'athan', 'kuku': 'chevo'}\n"
     ]
    }
   ],
   "source": [
    "import ast\n",
    "dict_str = input()\n",
    "dict1 = ast.literal_eval(dict_str)\n",
    "valuelist = list(dict1.values())\n",
    "valuelist.sort()\n",
    "newdict = dict()\n",
    "for value in valuelist:\n",
    "    for key, val in dict1.items():\n",
    "        if value == val:\n",
    "            break\n",
    "\n",
    "    updatedict = {key:value}\n",
    "    newdict.update(updatedict)\n",
    "print(newdict)\n",
    "\n",
    "\n"
   ]
  },
  {
   "cell_type": "markdown",
   "metadata": {},
   "source": [
    "### Exercise 22"
   ]
  },
  {
   "cell_type": "code",
   "execution_count": 99,
   "metadata": {},
   "outputs": [
    {
     "name": "stdout",
     "output_type": "stream",
     "text": [
      "{'Nge': '18', 'lllll': '11'}\n"
     ]
    }
   ],
   "source": [
    "# condition : New dictionary include on values that are digit\n",
    "# import ast\n",
    "# dict_str = input()\n",
    "# dict1 = ast.literal_eval(dict_str)\n",
    "dict1 = {\"name\": \"athan\", \"Nge\": '18', \"city\": 'True','kuku':'chevo',\"lllll\":'11'}\n",
    "newdict = {key:value for key,value in dict1.items() if value.isdigit()}\n",
    "print(newdict)\n"
   ]
  },
  {
   "cell_type": "markdown",
   "metadata": {},
   "source": [
    "### Exercise 23"
   ]
  },
  {
   "cell_type": "code",
   "execution_count": 106,
   "metadata": {},
   "outputs": [
    {
     "name": "stdout",
     "output_type": "stream",
     "text": [
      "True\n"
     ]
    }
   ],
   "source": [
    "dict1 = {\"name\": \"athan\", \"Nge\": '18', \"city\": 'True','kuku':'chevo',\"lllll\":'11'}\n",
    "dict2 = {\"name\": \"athan\",}\n",
    "boolean = False\n",
    "for key in dict1.keys():\n",
    "    for key2 in dict2.keys():\n",
    "        if key==key2:\n",
    "            boolean = True\n",
    "            break\n",
    "print(boolean)\n"
   ]
  },
  {
   "cell_type": "markdown",
   "metadata": {},
   "source": [
    "### Exercise 24"
   ]
  },
  {
   "cell_type": "code",
   "execution_count": 112,
   "metadata": {},
   "outputs": [
    {
     "name": "stdout",
     "output_type": "stream",
     "text": [
      "{'1': '2'}\n"
     ]
    }
   ],
   "source": [
    "mytuple = tuple(input().split())\n",
    "dict1 = dict([mytuple])\n",
    "print(dict1)"
   ]
  },
  {
   "cell_type": "markdown",
   "metadata": {},
   "source": [
    "### Exercise 25"
   ]
  },
  {
   "cell_type": "code",
   "execution_count": 117,
   "metadata": {},
   "outputs": [
    {
     "data": {
      "text/plain": [
       "('name', 'athan')"
      ]
     },
     "execution_count": 117,
     "metadata": {},
     "output_type": "execute_result"
    }
   ],
   "source": [
    "dict1 = {\"name\": \"athan\", \"Nge\": '18', \"city\": 'True','kuku':'chevo',\"lllll\":'11'}\n",
    "mylist = list(dict1.items())\n",
    "print(mylist[0])"
   ]
  }
 ],
 "metadata": {
  "kernelspec": {
   "display_name": "base",
   "language": "python",
   "name": "python3"
  },
  "language_info": {
   "codemirror_mode": {
    "name": "ipython",
    "version": 3
   },
   "file_extension": ".py",
   "mimetype": "text/x-python",
   "name": "python",
   "nbconvert_exporter": "python",
   "pygments_lexer": "ipython3",
   "version": "3.12.7"
  }
 },
 "nbformat": 4,
 "nbformat_minor": 2
}

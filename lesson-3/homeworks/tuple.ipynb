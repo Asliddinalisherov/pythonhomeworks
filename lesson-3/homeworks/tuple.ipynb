{
 "cells": [
  {
   "cell_type": "markdown",
   "metadata": {},
   "source": [
    "# Tuple Answers"
   ]
  },
  {
   "cell_type": "markdown",
   "metadata": {},
   "source": [
    "#### Exercise 1"
   ]
  },
  {
   "cell_type": "code",
   "execution_count": 2,
   "metadata": {},
   "outputs": [
    {
     "data": {
      "text/plain": [
       "2"
      ]
     },
     "execution_count": 2,
     "metadata": {},
     "output_type": "execute_result"
    }
   ],
   "source": [
    "mytuple = tuple(input().split())\n",
    "elem = input()\n",
    "print(mytuple.count(elem))\n"
   ]
  },
  {
   "cell_type": "markdown",
   "metadata": {},
   "source": [
    "#### Exercise 2"
   ]
  },
  {
   "cell_type": "code",
   "execution_count": null,
   "metadata": {},
   "outputs": [
    {
     "data": {
      "text/plain": [
       "(1, 1, 2, 5, 58)"
      ]
     },
     "execution_count": 10,
     "metadata": {},
     "output_type": "execute_result"
    }
   ],
   "source": [
    "mytuple = tuple(map(int,input().split()))\n",
    "newtuple = sorted(list(mytuple), reverse=True)\n",
    "\n",
    "newtuple = tuple(newtuple)\n",
    "print(newtuple[0])"
   ]
  },
  {
   "cell_type": "markdown",
   "metadata": {},
   "source": [
    "#### Exercise 3"
   ]
  },
  {
   "cell_type": "code",
   "execution_count": null,
   "metadata": {},
   "outputs": [],
   "source": [
    "mytuple = tuple(map(int,input().split()))\n",
    "newtuple = sorted(list(mytuple))\n",
    "\n",
    "newtuple = tuple(newtuple)\n",
    "print(newtuple[0])"
   ]
  },
  {
   "cell_type": "markdown",
   "metadata": {},
   "source": [
    "#### Exercise 4"
   ]
  },
  {
   "cell_type": "code",
   "execution_count": null,
   "metadata": {},
   "outputs": [
    {
     "data": {
      "text/plain": [
       "False"
      ]
     },
     "execution_count": 12,
     "metadata": {},
     "output_type": "execute_result"
    }
   ],
   "source": [
    "mytuple = tuple(input().split())\n",
    "elem = input()\n",
    "c = mytuple.count(elem)\n",
    "print(c != 0)"
   ]
  },
  {
   "cell_type": "markdown",
   "metadata": {},
   "source": [
    "#### Exercise 5"
   ]
  },
  {
   "cell_type": "code",
   "execution_count": 14,
   "metadata": {},
   "outputs": [
    {
     "name": "stdout",
     "output_type": "stream",
     "text": [
      "Empty\n"
     ]
    }
   ],
   "source": [
    "mytuple = tuple(input().split())\n",
    "if mytuple == tuple(()): print(\"Empty\")\n",
    "else: print(mytuple[0])\n"
   ]
  },
  {
   "cell_type": "markdown",
   "metadata": {},
   "source": [
    "#### Exercise 6"
   ]
  },
  {
   "cell_type": "code",
   "execution_count": 16,
   "metadata": {},
   "outputs": [
    {
     "name": "stdout",
     "output_type": "stream",
     "text": [
      "2\n"
     ]
    }
   ],
   "source": [
    "mytuple = tuple(input().split())\n",
    "lent = len(mytuple)\n",
    "if mytuple == tuple(()): print(\"Empty\")\n",
    "else: print(mytuple[lent-1])\n"
   ]
  },
  {
   "cell_type": "markdown",
   "metadata": {},
   "source": [
    "#### Exercise 7"
   ]
  },
  {
   "cell_type": "code",
   "execution_count": null,
   "metadata": {},
   "outputs": [],
   "source": [
    "mytuple = tuple(input().split())\n",
    "lent = len(mytuple)\n",
    "print(lent)"
   ]
  },
  {
   "cell_type": "markdown",
   "metadata": {},
   "source": [
    "#### Exercise 8"
   ]
  },
  {
   "cell_type": "code",
   "execution_count": 1,
   "metadata": {},
   "outputs": [
    {
     "data": {
      "text/plain": [
       "('1', '2', '3')"
      ]
     },
     "execution_count": 1,
     "metadata": {},
     "output_type": "execute_result"
    }
   ],
   "source": [
    "originaltuple = input().split()\n",
    "newtuple = []\n",
    "for elem in originaltuple:\n",
    "    newtuple.append(elem)\n",
    "    if elem == originaltuple[2]: break\n",
    "newtuple = tuple(newtuple)\n",
    "print(newtuple)\n"
   ]
  },
  {
   "cell_type": "markdown",
   "metadata": {},
   "source": [
    "#### Exercise 9"
   ]
  },
  {
   "cell_type": "code",
   "execution_count": 8,
   "metadata": {},
   "outputs": [
    {
     "name": "stdout",
     "output_type": "stream",
     "text": [
      "('1', '2', '5', '8', '6', '3', '2')\n"
     ]
    }
   ],
   "source": [
    "ftuple = tuple(input().split())\n",
    "stuple = tuple(input().split())\n",
    "ftuple = list(ftuple)\n",
    "stuple = list(stuple)\n",
    "ftuple.extend(stuple)\n",
    "\n",
    "newtuple = tuple(ftuple)\n",
    "print(newtuple)"
   ]
  },
  {
   "cell_type": "markdown",
   "metadata": {},
   "source": [
    "#### Exercise 10"
   ]
  },
  {
   "cell_type": "code",
   "execution_count": 7,
   "metadata": {},
   "outputs": [
    {
     "data": {
      "text/plain": [
       "True"
      ]
     },
     "execution_count": 7,
     "metadata": {},
     "output_type": "execute_result"
    }
   ],
   "source": [
    "newtuple = tuple(input().split())\n",
    "print(newtuple == tuple(()))"
   ]
  },
  {
   "cell_type": "markdown",
   "metadata": {},
   "source": [
    "#### Exercise 11"
   ]
  },
  {
   "cell_type": "code",
   "execution_count": 14,
   "metadata": {},
   "outputs": [
    {
     "name": "stdout",
     "output_type": "stream",
     "text": [
      "[0, 2, 4, 6, 8]\n"
     ]
    }
   ],
   "source": [
    "newtuple = tuple(input().split())\n",
    "element = input()\n",
    "newtuple = list(newtuple)\n",
    "\n",
    "indices = []\n",
    "num = newtuple.count(element)\n",
    "index = 0\n",
    "for i in range(num):\n",
    "    index1 = newtuple.index(element,index)\n",
    "\n",
    "    indices.append(index1)\n",
    "    if index <= index1 : index=index1+1\n",
    "print(indices)\n"
   ]
  },
  {
   "cell_type": "markdown",
   "metadata": {},
   "source": [
    "#### Exercise 12"
   ]
  },
  {
   "cell_type": "code",
   "execution_count": 22,
   "metadata": {},
   "outputs": [
    {
     "name": "stdout",
     "output_type": "stream",
     "text": [
      "[74, 8, 6, 5, 2, 1]\n"
     ]
    }
   ],
   "source": [
    "mytuple = tuple(map(int,input().split()))\n",
    "mytuple = list(mytuple)\n",
    "list(set(mytuple))\n",
    "mytuple = sorted(mytuple)\n",
    "mytuple.reverse()\n",
    "print(mytuple[1])\n"
   ]
  },
  {
   "cell_type": "markdown",
   "metadata": {},
   "source": [
    "#### Exercise 13"
   ]
  },
  {
   "cell_type": "code",
   "execution_count": 24,
   "metadata": {},
   "outputs": [
    {
     "name": "stdout",
     "output_type": "stream",
     "text": [
      "2\n"
     ]
    }
   ],
   "source": [
    "mytuple = tuple(map(int,input().split()))\n",
    "mytuple = list(mytuple)\n",
    "list(set(mytuple))\n",
    "mytuple = sorted(mytuple)\n",
    "\n",
    "print(mytuple[1])\n"
   ]
  },
  {
   "cell_type": "markdown",
   "metadata": {},
   "source": [
    "#### Exercise 14"
   ]
  },
  {
   "cell_type": "code",
   "execution_count": 63,
   "metadata": {},
   "outputs": [
    {
     "name": "stdout",
     "output_type": "stream",
     "text": [
      "(5,)\n"
     ]
    }
   ],
   "source": [
    "single_element_tuple = (5,)\n",
    "print(single_element_tuple)"
   ]
  },
  {
   "cell_type": "markdown",
   "metadata": {},
   "source": [
    "#### Exercise 15"
   ]
  },
  {
   "cell_type": "code",
   "execution_count": 29,
   "metadata": {},
   "outputs": [
    {
     "name": "stdout",
     "output_type": "stream",
     "text": [
      "('12', '5', '8')\n"
     ]
    }
   ],
   "source": [
    "mylist = input().split()\n",
    "mytuple = tuple(mylist)\n",
    "print(mytuple)"
   ]
  },
  {
   "cell_type": "markdown",
   "metadata": {},
   "source": [
    "#### Exercise 16"
   ]
  },
  {
   "cell_type": "code",
   "execution_count": 33,
   "metadata": {},
   "outputs": [
    {
     "data": {
      "text/plain": [
       "False"
      ]
     },
     "execution_count": 33,
     "metadata": {},
     "output_type": "execute_result"
    }
   ],
   "source": [
    "mytuple = tuple(input().split())\n",
    "mytuple = list(mytuple)\n",
    "newtuple = sorted(mytuple)\n",
    "print(newtuple == mytuple)\n",
    "\n"
   ]
  },
  {
   "cell_type": "markdown",
   "metadata": {},
   "source": [
    "#### Exercise 17"
   ]
  },
  {
   "cell_type": "code",
   "execution_count": 35,
   "metadata": {},
   "outputs": [
    {
     "data": {
      "text/plain": [
       "55"
      ]
     },
     "execution_count": 35,
     "metadata": {},
     "output_type": "execute_result"
    }
   ],
   "source": [
    "mytuple = tuple(map(int,input().split()))\n",
    "index1 = int(input(\"start index: \"))\n",
    "index2 = int(input(\"End index: \"))\n",
    "mytuple = list(mytuple)\n",
    "mysublist = mytuple[index1:index2]\n",
    "mysublist.sort(reverse=True)\n",
    "print(mysublist[0])\n"
   ]
  },
  {
   "cell_type": "markdown",
   "metadata": {},
   "source": [
    "#### Exercise 18"
   ]
  },
  {
   "cell_type": "code",
   "execution_count": 36,
   "metadata": {},
   "outputs": [
    {
     "data": {
      "text/plain": [
       "5"
      ]
     },
     "execution_count": 36,
     "metadata": {},
     "output_type": "execute_result"
    }
   ],
   "source": [
    "mytuple = tuple(map(int,input().split()))\n",
    "index1 = int(input(\"start index: \"))\n",
    "index2 = int(input(\"End index: \"))\n",
    "mytuple = list(mytuple)\n",
    "mysublist = mytuple[index1:index2]\n",
    "mysublist.sort()\n",
    "print(mysublist[0])"
   ]
  },
  {
   "cell_type": "markdown",
   "metadata": {},
   "source": [
    "#### Exercise 19"
   ]
  },
  {
   "cell_type": "code",
   "execution_count": 42,
   "metadata": {},
   "outputs": [
    {
     "name": "stdout",
     "output_type": "stream",
     "text": [
      "('5', '8', '5', '6', '2', '1')\n"
     ]
    }
   ],
   "source": [
    "mytuple = tuple(input().split())\n",
    "element = input()\n",
    "newtuple = list(mytuple)\n",
    "\n",
    "newtuple.remove(element)\n",
    "newtuple = tuple(newtuple)\n",
    "print(newtuple)"
   ]
  },
  {
   "cell_type": "markdown",
   "metadata": {},
   "source": [
    "#### Exercise 20"
   ]
  },
  {
   "cell_type": "code",
   "execution_count": 50,
   "metadata": {},
   "outputs": [
    {
     "name": "stdout",
     "output_type": "stream",
     "text": [
      "(('1', '2', '3'), ('4', '5', '6'), ('7', '8', '9'), ('1', '2', '3'))\n"
     ]
    }
   ],
   "source": [
    "mytuple = tuple(input().split())\n",
    "mylist = list(mytuple)\n",
    "n = int(input(\"Give number so that number of elements of list can be devided equally\"))\n",
    "nested_list = [mylist[i:i + n] for i in range(0, len(mylist), n)]\n",
    "nested_tuple = tuple(tuple(sublist) for sublist in nested_list)\n",
    "print(nested_tuple)"
   ]
  },
  {
   "cell_type": "markdown",
   "metadata": {},
   "source": [
    "#### Exercise 21"
   ]
  },
  {
   "cell_type": "code",
   "execution_count": 52,
   "metadata": {},
   "outputs": [
    {
     "name": "stdout",
     "output_type": "stream",
     "text": [
      "('1', '1', '2', '2', '3', '3', '45', '45', '6', '6', '78', '78', '2', '2')\n"
     ]
    }
   ],
   "source": [
    "mytuple = tuple(input().split())\n",
    "mylist = list(mytuple)\n",
    "number = int(input())\n",
    "newlist = []\n",
    "for elem in mylist:\n",
    "    for i in range(number):\n",
    "        newlist.append(elem)\n",
    "newtuple = tuple(newlist)\n",
    "print(newtuple)"
   ]
  },
  {
   "cell_type": "markdown",
   "metadata": {},
   "source": [
    "#### Exercise 22"
   ]
  },
  {
   "cell_type": "code",
   "execution_count": 53,
   "metadata": {},
   "outputs": [
    {
     "name": "stdout",
     "output_type": "stream",
     "text": [
      "(5, 6, 7, 8, 9, 10, 11, 12, 13, 14, 15)\n"
     ]
    }
   ],
   "source": [
    "start = int(input(\"start\"))\n",
    "end = int(input(\"end\"))\n",
    "    \n",
    "mylist = list(range(start,end+1))\n",
    "mytuple = tuple(mylist)\n",
    "print(mytuple)"
   ]
  },
  {
   "cell_type": "markdown",
   "metadata": {},
   "source": [
    "#### Exercise 23"
   ]
  },
  {
   "cell_type": "code",
   "execution_count": 55,
   "metadata": {},
   "outputs": [
    {
     "name": "stdout",
     "output_type": "stream",
     "text": [
      "('2', '6', '8', '5', '2', '1')\n"
     ]
    }
   ],
   "source": [
    "mytuple = tuple(input().split())\n",
    "mylist = list(mytuple)\n",
    "mylist.reverse()\n",
    "newtuple = tuple(mylist)\n",
    "print(newtuple)"
   ]
  },
  {
   "cell_type": "markdown",
   "metadata": {},
   "source": [
    "#### Exercise 24"
   ]
  },
  {
   "cell_type": "code",
   "execution_count": 59,
   "metadata": {},
   "outputs": [
    {
     "data": {
      "text/plain": [
       "False"
      ]
     },
     "execution_count": 59,
     "metadata": {},
     "output_type": "execute_result"
    }
   ],
   "source": [
    "mytuple = tuple(input().split())\n",
    "mylist = list(mytuple)\n",
    "mylist.reverse()\n",
    "newtuple = tuple(mylist)\n",
    "print(newtuple == mytuple)"
   ]
  },
  {
   "cell_type": "markdown",
   "metadata": {},
   "source": [
    "#### Exercise 25"
   ]
  },
  {
   "cell_type": "code",
   "execution_count": 61,
   "metadata": {},
   "outputs": [
    {
     "name": "stdout",
     "output_type": "stream",
     "text": [
      "('1', '2', '5', '8', '9', '6', '3', '11')\n"
     ]
    }
   ],
   "source": [
    "mytuple = tuple(input().split())\n",
    "mylist = []\n",
    "for i in mytuple:\n",
    "    if (i in mytuple) and (i not in mylist): mylist.append(i)\n",
    "newtuple = tuple(mylist)\n",
    "print(newtuple)"
   ]
  }
 ],
 "metadata": {
  "kernelspec": {
   "display_name": "base",
   "language": "python",
   "name": "python3"
  },
  "language_info": {
   "codemirror_mode": {
    "name": "ipython",
    "version": 3
   },
   "file_extension": ".py",
   "mimetype": "text/x-python",
   "name": "python",
   "nbconvert_exporter": "python",
   "pygments_lexer": "ipython3",
   "version": "3.12.7"
  }
 },
 "nbformat": 4,
 "nbformat_minor": 2
}

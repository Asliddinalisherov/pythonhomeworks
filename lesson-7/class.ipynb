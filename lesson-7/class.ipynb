{
 "cells": [
  {
   "cell_type": "code",
   "execution_count": 72,
   "metadata": {},
   "outputs": [
    {
     "name": "stdout",
     "output_type": "stream",
     "text": [
      "ID self =  2687754864928\n",
      "2\n"
     ]
    }
   ],
   "source": [
    "import math\n",
    "class Point1:\n",
    "    def __init__(self, b1, b2):\n",
    "        print(\"ID self = \", id(self))\n",
    "        self.x = b1\n",
    "        self.y = b2\n",
    "\n",
    "a = Point1(2, 5)\n",
    "print(a.x)"
   ]
  },
  {
   "cell_type": "code",
   "execution_count": 76,
   "metadata": {},
   "outputs": [
    {
     "name": "stdout",
     "output_type": "stream",
     "text": [
      "ID self =  2687742229488\n",
      "ID self =  2687739035040\n",
      "id a: 2687742229488\n",
      "id b: 2687739035040\n"
     ]
    }
   ],
   "source": [
    "# import math\n",
    "# class Point1:\n",
    "#     def __init__(self):\n",
    "#         print('Init Executed')\n",
    "\n",
    "# a = Point1()\n",
    "\n",
    "\n",
    "a = Point1(5, 9)\n",
    "# a.x = 5\n",
    "# a.y = 6\n",
    "\n",
    "b = Point1(5, 9)\n",
    "\n",
    "# b.x = 2\n",
    "# b.y = 7\n",
    "\n",
    "\n",
    "print(\"id a:\",id(a))\n",
    "print(\"id b:\",id(b))"
   ]
  },
  {
   "cell_type": "code",
   "execution_count": 65,
   "metadata": {},
   "outputs": [
    {
     "name": "stdout",
     "output_type": "stream",
     "text": [
      "<class 'str'> 5\n"
     ]
    }
   ],
   "source": [
    "x: int = 5\n",
    "p: str = '5'\n",
    "print(type(p),x)"
   ]
  },
  {
   "cell_type": "code",
   "execution_count": 67,
   "metadata": {},
   "outputs": [],
   "source": [
    "def distance(p1: Point1, p2: Point1):\n",
    "    \"\"\"ldadaaaaaaaaaaaaaaaaaa\"\"\"\n",
    "    return ((p1.x - p2.x)**2 + (p1.y - p2.y)**2)**(1/2)\n"
   ]
  },
  {
   "cell_type": "code",
   "execution_count": 68,
   "metadata": {},
   "outputs": [
    {
     "data": {
      "text/plain": [
       "0.0"
      ]
     },
     "execution_count": 68,
     "metadata": {},
     "output_type": "execute_result"
    }
   ],
   "source": [
    "distance(a, b)"
   ]
  },
  {
   "cell_type": "code",
   "execution_count": null,
   "metadata": {},
   "outputs": [
    {
     "ename": "SyntaxError",
     "evalue": "incomplete input (1812680861.py, line 1)",
     "output_type": "error",
     "traceback": [
      "\u001b[1;36m  Cell \u001b[1;32mIn[77], line 1\u001b[1;36m\u001b[0m\n\u001b[1;33m    class Vector2D:\u001b[0m\n\u001b[1;37m                   ^\u001b[0m\n\u001b[1;31mSyntaxError\u001b[0m\u001b[1;31m:\u001b[0m incomplete input\n"
     ]
    }
   ],
   "source": [
    "class Vector2D:\n",
    "    def __init__(self, x, y):\n",
    "        self.x = x\n",
    "        self.y = y\n",
    "    def __eq__(self, other):\n",
    "        print(\"Executed\")\n",
    "        return self.x == other.x and self.y == other.y\n",
    "    def __add__(self, other):\n",
    "        new_x = self.x + other.x\n",
    "        new_y = self.y + other.y\n",
    "        return Vector2D(new_x, new_y)\n",
    "    "
   ]
  },
  {
   "cell_type": "code",
   "execution_count": null,
   "metadata": {},
   "outputs": [],
   "source": []
  },
  {
   "cell_type": "code",
   "execution_count": null,
   "metadata": {},
   "outputs": [],
   "source": []
  },
  {
   "cell_type": "code",
   "execution_count": null,
   "metadata": {},
   "outputs": [],
   "source": []
  }
 ],
 "metadata": {
  "kernelspec": {
   "display_name": "base",
   "language": "python",
   "name": "python3"
  },
  "language_info": {
   "codemirror_mode": {
    "name": "ipython",
    "version": 3
   },
   "file_extension": ".py",
   "mimetype": "text/x-python",
   "name": "python",
   "nbconvert_exporter": "python",
   "pygments_lexer": "ipython3",
   "version": "3.12.7"
  }
 },
 "nbformat": 4,
 "nbformat_minor": 2
}

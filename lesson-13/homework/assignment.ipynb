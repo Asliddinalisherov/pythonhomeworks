{
 "cells": [
  {
   "cell_type": "code",
   "execution_count": 2,
   "metadata": {},
   "outputs": [],
   "source": [
    "import numpy as np"
   ]
  },
  {
   "cell_type": "code",
   "execution_count": null,
   "metadata": {},
   "outputs": [
    {
     "name": "stdout",
     "output_type": "stream",
     "text": [
      "[10 11 12 13 14 15 16 17 18 19 20 21 22 23 24 25 26 27 28 29 30 31 32 33\n",
      " 34 35 36 37 38 39 40 41 42 43 44 45 46 47 48]\n"
     ]
    }
   ],
   "source": [
    "arr = np.arange(10,49)\n",
    "print(vec)"
   ]
  },
  {
   "cell_type": "code",
   "execution_count": null,
   "metadata": {},
   "outputs": [],
   "source": [
    "arr = np.arange(9)\n",
    "matrix = arr.reshape(3,3)\n",
    "print(matrix)"
   ]
  },
  {
   "cell_type": "code",
   "execution_count": 5,
   "metadata": {},
   "outputs": [
    {
     "name": "stdout",
     "output_type": "stream",
     "text": [
      "[[1. 0. 0.]\n",
      " [0. 1. 0.]\n",
      " [0. 0. 1.]]\n"
     ]
    }
   ],
   "source": [
    "identity_matrix = np.eye(3)\n",
    "print(identity_matrix)"
   ]
  },
  {
   "cell_type": "code",
   "execution_count": 7,
   "metadata": {},
   "outputs": [
    {
     "name": "stdout",
     "output_type": "stream",
     "text": [
      "[[[3.72252956e-01 1.29776003e-01 9.43809167e-01]\n",
      "  [8.72387537e-02 2.03528048e-01 4.02059616e-01]\n",
      "  [3.95801317e-01 9.22634396e-01 9.03488507e-04]]\n",
      "\n",
      " [[8.55706170e-01 7.30678486e-01 2.33677678e-01]\n",
      "  [7.20989987e-01 1.82296159e-01 4.76486580e-01]\n",
      "  [6.47505036e-01 5.47370289e-01 5.09700444e-01]]\n",
      "\n",
      " [[2.88275310e-01 9.93091911e-01 5.79843765e-01]\n",
      "  [4.38178232e-01 4.70993979e-01 6.20005693e-01]\n",
      "  [8.81587881e-01 3.75078122e-01 9.00966540e-01]]]\n"
     ]
    }
   ],
   "source": [
    "random_array = np.random.rand(3, 3, 3)\n",
    "print(random_array)"
   ]
  },
  {
   "cell_type": "code",
   "execution_count": 3,
   "metadata": {},
   "outputs": [
    {
     "name": "stdout",
     "output_type": "stream",
     "text": [
      "0.9933082869663382 0.008173255691371506\n"
     ]
    }
   ],
   "source": [
    "random_array = np.random.rand(10, 10)\n",
    "maxi = 0\n",
    "mini = list(random_array[0])[0]\n",
    "for a in random_array:\n",
    "    if maxi < max(list(a)):\n",
    "        maxi = max(list(a))\n",
    "    if mini > min(list(a)):\n",
    "        mini = min(list(a))\n",
    "print(maxi, mini)   "
   ]
  },
  {
   "cell_type": "code",
   "execution_count": 5,
   "metadata": {},
   "outputs": [
    {
     "name": "stdout",
     "output_type": "stream",
     "text": [
      "Random Vector: [0.46926099 0.18208188 0.98914124 0.48675458 0.94585464 0.89554147\n",
      " 0.92117659 0.53223072 0.29202985 0.89102015 0.3197182  0.29896355\n",
      " 0.26760364 0.8938418  0.90382106 0.2772697  0.96521307 0.11440624\n",
      " 0.38248145 0.33048011 0.57146798 0.36028965 0.28589035 0.32674568\n",
      " 0.11128187 0.186058   0.41555585 0.80506986 0.55178731 0.59577574]\n",
      "Mean Value: 0.51896043975261\n"
     ]
    }
   ],
   "source": [
    "random_vector = np.random.rand(30)\n",
    "\n",
    "# Calculate the mean value\n",
    "mean_value = np.mean(random_vector)\n",
    "\n",
    "print(\"Random Vector:\", random_vector)\n",
    "print(\"Mean Value:\", mean_value)"
   ]
  },
  {
   "cell_type": "code",
   "execution_count": 15,
   "metadata": {},
   "outputs": [
    {
     "name": "stdout",
     "output_type": "stream",
     "text": [
      "Original Random Matrix:\n",
      "[[0.09972728 0.29321846 0.18822456 0.74644207 0.23705673]\n",
      " [0.29246569 0.64488137 0.73574272 0.56303584 0.14604469]\n",
      " [0.5239487  0.22354665 0.98343912 0.37450247 0.14279902]\n",
      " [0.34251195 0.77649814 0.81935003 0.13384749 0.97961435]\n",
      " [0.29785297 0.64516145 0.87359243 0.56393984 0.0445572 ]]\n",
      "\n",
      "Normalized Matrix:\n",
      "[[0.05876147 0.26484828 0.15301963 0.74757523 0.20503061]\n",
      " [0.26404651 0.63940327 0.73617939 0.55222987 0.10809399]\n",
      " [0.51059829 0.19064107 1.         0.35142361 0.10463704]\n",
      " [0.31735061 0.77958785 0.82522926 0.09510279 0.99592625]\n",
      " [0.26978448 0.63970158 0.88300265 0.55319271 0.        ]]\n"
     ]
    }
   ],
   "source": [
    "\n",
    "random_matrix = np.random.rand(5, 5)\n",
    "\n",
    "min_value = random_matrix.min()\n",
    "max_value = random_matrix.max()\n",
    "normalized_matrix = (random_matrix - min_value) / (max_value - min_value)\n",
    "\n",
    "print(\"Original Random Matrix:\")\n",
    "print(random_matrix)\n",
    "print(\"\\nNormalized Matrix:\")\n",
    "print(normalized_matrix)"
   ]
  },
  {
   "cell_type": "code",
   "execution_count": 20,
   "metadata": {},
   "outputs": [
    {
     "data": {
      "text/plain": [
       "array([[11, 16],\n",
       "       [17, 26],\n",
       "       [23, 36],\n",
       "       [29, 46],\n",
       "       [35, 56]])"
      ]
     },
     "execution_count": 20,
     "metadata": {},
     "output_type": "execute_result"
    }
   ],
   "source": [
    "matrix1 = np.array([\n",
    "    [1, 2, 2],\n",
    "    [3, 4, 2],\n",
    "    [5, 6, 2],\n",
    "    [7, 8, 2],\n",
    "    [9, 10, 2]\n",
    "])\n",
    "matrix1.shape\n",
    "\n",
    "matrix2 = np.array([\n",
    "    [1, 2],\n",
    "    [2, 3],\n",
    "    [3, 4]\n",
    "])\n",
    "\n",
    "matrix = np.dot(matrix1, matrix2)\n",
    "matrix"
   ]
  },
  {
   "cell_type": "code",
   "execution_count": 22,
   "metadata": {},
   "outputs": [
    {
     "data": {
      "text/plain": [
       "array([[ 35,  40,  10],\n",
       "       [ 67,  76,  18],\n",
       "       [ 99, 112,  26]])"
      ]
     },
     "execution_count": 22,
     "metadata": {},
     "output_type": "execute_result"
    }
   ],
   "source": [
    "matrix1 = np.array([\n",
    "    [1, 2, 2],\n",
    "    [3, 4, 2],\n",
    "    [5, 6, 2]\n",
    "\n",
    "])\n",
    "\n",
    "matrix2 = np.array([\n",
    "    [7, 8, 2],\n",
    "    [9, 10, 2],\n",
    "    [5, 6, 2]\n",
    "])\n",
    "\n",
    "result_matrix = np.dot(matrix1, matrix2)\n",
    "result_matrix"
   ]
  },
  {
   "cell_type": "code",
   "execution_count": 25,
   "metadata": {},
   "outputs": [
    {
     "data": {
      "text/plain": [
       "array([[1, 3, 5, 7],\n",
       "       [2, 4, 6, 8],\n",
       "       [2, 2, 2, 2],\n",
       "       [3, 4, 5, 5]])"
      ]
     },
     "execution_count": 25,
     "metadata": {},
     "output_type": "execute_result"
    }
   ],
   "source": [
    "matrix1 = np.array([\n",
    "    [1, 2, 2, 3],\n",
    "    [3, 4, 2, 4],\n",
    "    [5, 6, 2, 5],\n",
    "    [7, 8, 2, 5],\n",
    "])\n",
    "matrix1 = np.transpose(matrix1)\n",
    "matrix1"
   ]
  },
  {
   "cell_type": "code",
   "execution_count": 29,
   "metadata": {},
   "outputs": [
    {
     "data": {
      "text/plain": [
       "388.00000000000006"
      ]
     },
     "execution_count": 29,
     "metadata": {},
     "output_type": "execute_result"
    }
   ],
   "source": [
    "matrix1 = np.array([\n",
    "    [7, 8, 99],\n",
    "    [9, 10, 2],\n",
    "    [5, 6, 2]\n",
    "])\n",
    "\n",
    "determinant = np.linalg.det(matrix1)\n",
    "determinant"
   ]
  },
  {
   "cell_type": "code",
   "execution_count": null,
   "metadata": {},
   "outputs": [],
   "source": [
    "matrix_a = np.array([[1, 2, 3, 4],\n",
    "                     [5, 6, 7, 8],\n",
    "                     [9, 10, 11, 12]])\n",
    "\n",
    "\n",
    "matrix_b = np.array([[1, 2, 3],\n",
    "                     [4, 5, 6],\n",
    "                     [7, 8, 9],\n",
    "                     [10, 11, 12]])\n",
    "\n",
    "\n",
    "result_matrix = np.dot(matrix_a, matrix_b)\n",
    "\n",
    "print(\"Matrix A (3x4):\")\n",
    "print(matrix_a)\n",
    "print(\"\\nMatrix B (4x3):\")\n",
    "print(matrix_b)\n",
    "print(\"\\nResultant Matrix (3x3):\")\n",
    "print(result_matrix)"
   ]
  },
  {
   "cell_type": "code",
   "execution_count": 30,
   "metadata": {},
   "outputs": [
    {
     "name": "stdout",
     "output_type": "stream",
     "text": [
      "Random Matrix (3x3):\n",
      "[[0.34072371 0.72137102 0.90065997]\n",
      " [0.86416636 0.01763853 0.32655407]\n",
      " [0.48546107 0.38414735 0.3365165 ]]\n",
      "\n",
      "Column Vector (3x1):\n",
      "[[0.19083155]\n",
      " [0.18357699]\n",
      " [0.4502386 ]]\n",
      "\n",
      "Resultant Vector (3x1):\n",
      "[[0.60295984]\n",
      " [0.31517548]\n",
      " [0.31467463]]\n"
     ]
    }
   ],
   "source": [
    "random_matrix = np.random.rand(3, 3)\n",
    "\n",
    "column_vector = np.random.rand(3, 1)\n",
    "\n",
    "# Perform matrix-vector multiplication\n",
    "result_vector = np.dot(random_matrix, column_vector)\n",
    "\n",
    "print(\"Random Matrix (3x3):\")\n",
    "print(random_matrix)\n",
    "print(\"\\nColumn Vector (3x1):\")\n",
    "print(column_vector)\n",
    "print(\"\\nResultant Vector (3x1):\")\n",
    "print(result_vector)"
   ]
  },
  {
   "cell_type": "code",
   "execution_count": 31,
   "metadata": {},
   "outputs": [
    {
     "name": "stdout",
     "output_type": "stream",
     "text": [
      "Matrix A (3x3):\n",
      "[[ 3.   2.  -1. ]\n",
      " [ 2.  -2.   4. ]\n",
      " [-1.   0.5 -1. ]]\n",
      "\n",
      "Column Vector b (3x1):\n",
      "[[ 1]\n",
      " [-2]\n",
      " [ 0]]\n",
      "\n",
      "Solution Vector x (3x1):\n",
      "[[ 1.]\n",
      " [-2.]\n",
      " [-2.]]\n"
     ]
    }
   ],
   "source": [
    "A = np.array([[3, 2, -1],\n",
    "              [2, -2, 4],\n",
    "              [-1, 0.5, -1]])\n",
    "\n",
    "b = np.array([[1],\n",
    "              [-2],\n",
    "              [0]])\n",
    "\n",
    "# Solve the linear system Ax = b\n",
    "x = np.linalg.solve(A, b)\n",
    "\n",
    "print(\"Matrix A (3x3):\")\n",
    "print(A)\n",
    "print(\"\\nColumn Vector b (3x1):\")\n",
    "print(b)\n",
    "print(\"\\nSolution Vector x (3x1):\")\n",
    "print(x)"
   ]
  },
  {
   "cell_type": "code",
   "execution_count": 32,
   "metadata": {},
   "outputs": [
    {
     "name": "stdout",
     "output_type": "stream",
     "text": [
      "Matrix:\n",
      "[[ 1  2  3  4  5]\n",
      " [ 6  7  8  9 10]\n",
      " [11 12 13 14 15]\n",
      " [16 17 18 19 20]\n",
      " [21 22 23 24 25]]\n",
      "\n",
      "Row Sums:\n",
      "[ 15  40  65  90 115]\n",
      "\n",
      "Column Sums:\n",
      "[55 60 65 70 75]\n"
     ]
    }
   ],
   "source": [
    "matrix = np.array([\n",
    "    [1, 2, 3, 4, 5],\n",
    "    [6, 7, 8, 9, 10],\n",
    "    [11, 12, 13, 14, 15],\n",
    "    [16, 17, 18, 19, 20],\n",
    "    [21, 22, 23, 24, 25]\n",
    "])\n",
    "\n",
    "row_sums = np.sum(matrix, axis=1)\n",
    "column_sum = np.sum(matrix, axis = 0)\n",
    "\n",
    "print(\"Matrix:\")\n",
    "print(matrix)\n",
    "print(\"\\nRow Sums:\")\n",
    "print(row_sums)\n",
    "print(\"\\nColumn Sums:\")\n",
    "print(column_sum)"
   ]
  }
 ],
 "metadata": {
  "kernelspec": {
   "display_name": "base",
   "language": "python",
   "name": "python3"
  },
  "language_info": {
   "codemirror_mode": {
    "name": "ipython",
    "version": 3
   },
   "file_extension": ".py",
   "mimetype": "text/x-python",
   "name": "python",
   "nbconvert_exporter": "python",
   "pygments_lexer": "ipython3",
   "version": "3.12.7"
  }
 },
 "nbformat": 4,
 "nbformat_minor": 2
}

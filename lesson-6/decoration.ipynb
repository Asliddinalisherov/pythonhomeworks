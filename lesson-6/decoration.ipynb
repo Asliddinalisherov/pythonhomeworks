{
 "cells": [
  {
   "cell_type": "code",
   "execution_count": null,
   "metadata": {},
   "outputs": [],
   "source": []
  },
  {
   "cell_type": "code",
   "execution_count": 5,
   "metadata": {},
   "outputs": [],
   "source": [
    "def repeat(n):\n",
    "    def d(func):\n",
    "        def wrapper(name):\n",
    "            for _ in range(n):\n",
    "                func(name)\n",
    "            \n",
    "        \n",
    "        wrapper.__name__ = func.__name__\n",
    "        return wrapper\n",
    "\n",
    "    return d\n",
    "\n",
    "@repeat(15)\n",
    "def greet(name):\n",
    "    print(f\"Hello, {name}\")"
   ]
  },
  {
   "cell_type": "code",
   "execution_count": 6,
   "metadata": {},
   "outputs": [
    {
     "name": "stdout",
     "output_type": "stream",
     "text": [
      "Hello, Asliddin\n",
      "Hello, Asliddin\n",
      "Hello, Asliddin\n",
      "Hello, Asliddin\n",
      "Hello, Asliddin\n",
      "Hello, Asliddin\n",
      "Hello, Asliddin\n",
      "Hello, Asliddin\n",
      "Hello, Asliddin\n",
      "Hello, Asliddin\n",
      "Hello, Asliddin\n",
      "Hello, Asliddin\n",
      "Hello, Asliddin\n",
      "Hello, Asliddin\n",
      "Hello, Asliddin\n"
     ]
    }
   ],
   "source": [
    "greet('Asliddin')"
   ]
  }
 ],
 "metadata": {
  "kernelspec": {
   "display_name": "base",
   "language": "python",
   "name": "python3"
  },
  "language_info": {
   "codemirror_mode": {
    "name": "ipython",
    "version": 3
   },
   "file_extension": ".py",
   "mimetype": "text/x-python",
   "name": "python",
   "nbconvert_exporter": "python",
   "pygments_lexer": "ipython3",
   "version": "3.12.7"
  }
 },
 "nbformat": 4,
 "nbformat_minor": 2
}

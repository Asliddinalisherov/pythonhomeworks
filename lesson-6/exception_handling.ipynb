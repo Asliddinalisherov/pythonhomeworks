{
 "cells": [
  {
   "cell_type": "code",
   "execution_count": 12,
   "metadata": {},
   "outputs": [
    {
     "name": "stdout",
     "output_type": "stream",
     "text": [
      "priority\n"
     ]
    }
   ],
   "source": [
    "try:\n",
    "    1 / 0\n",
    "except BaseException:\n",
    "    print(\"priority\")\n",
    "except ZeroDivisionError:\n",
    "    print(\"bolib\")\n",
    "except IndexError:\n",
    "    print(\"Index bo`lmaydi\")"
   ]
  },
  {
   "cell_type": "code",
   "execution_count": null,
   "metadata": {},
   "outputs": [],
   "source": [
    "# except: = except BaseException:\n"
   ]
  },
  {
   "cell_type": "code",
   "execution_count": 3,
   "metadata": {},
   "outputs": [
    {
     "name": "stdout",
     "output_type": "stream",
     "text": [
      "Error Occured\n"
     ]
    }
   ],
   "source": [
    "try:\n",
    "    a=[1]\n",
    "    a[1]\n",
    "except Exception:\n",
    "    print(\"Error Occured\")"
   ]
  },
  {
   "cell_type": "code",
   "execution_count": 4,
   "metadata": {},
   "outputs": [
    {
     "name": "stdout",
     "output_type": "stream",
     "text": [
      "Error Occured\n"
     ]
    }
   ],
   "source": [
    "try:\n",
    "    a=[1]\n",
    "    a[1]\n",
    "except Exception:\n",
    "    print(\"Error Occured\")"
   ]
  },
  {
   "cell_type": "code",
   "execution_count": 8,
   "metadata": {},
   "outputs": [
    {
     "name": "stdout",
     "output_type": "stream",
     "text": [
      "<class 'ImportError'>\n",
      "('bad import',)\n",
      "bad import\n"
     ]
    }
   ],
   "source": [
    "try:\n",
    "    raise ImportError('bad import')\n",
    "except ImportError as error:\n",
    "    print(type(error))\n",
    "    print(error.args)\n",
    "    print(error)"
   ]
  },
  {
   "cell_type": "code",
   "execution_count": 15,
   "metadata": {},
   "outputs": [
    {
     "name": "stdout",
     "output_type": "stream",
     "text": [
      "<class 'ModuleNotFoundError'>\n",
      "(\"No module named 'something'\",)\n"
     ]
    }
   ],
   "source": [
    "try:\n",
    "    import something\n",
    "except ImportError as e:\n",
    "    print(type(e))\n",
    "    print(e.args)"
   ]
  },
  {
   "cell_type": "code",
   "execution_count": 17,
   "metadata": {},
   "outputs": [
    {
     "ename": "Exception",
     "evalue": "('Error occured', 'aofskdfa', 'aofskdfa')",
     "output_type": "error",
     "traceback": [
      "\u001b[1;31m---------------------------------------------------------------------------\u001b[0m",
      "\u001b[1;31mException\u001b[0m                                 Traceback (most recent call last)",
      "Cell \u001b[1;32mIn[17], line 1\u001b[0m\n\u001b[1;32m----> 1\u001b[0m \u001b[38;5;28;01mraise\u001b[39;00m \u001b[38;5;167;01mException\u001b[39;00m(\u001b[38;5;124m\"\u001b[39m\u001b[38;5;124mError occured\u001b[39m\u001b[38;5;124m\"\u001b[39m, \u001b[38;5;124m'\u001b[39m\u001b[38;5;124maofskdfa\u001b[39m\u001b[38;5;124m'\u001b[39m, \u001b[38;5;124m'\u001b[39m\u001b[38;5;124maofskdfa\u001b[39m\u001b[38;5;124m'\u001b[39m)\n",
      "\u001b[1;31mException\u001b[0m: ('Error occured', 'aofskdfa', 'aofskdfa')"
     ]
    }
   ],
   "source": [
    "raise Exception(\"Error occured\", 'aofskdfa', 'aofskdfa')"
   ]
  },
  {
   "cell_type": "code",
   "execution_count": 20,
   "metadata": {},
   "outputs": [
    {
     "name": "stdout",
     "output_type": "stream",
     "text": [
      "<class 'Exception'>\n",
      "('Error occured', 'aofskdfa', 'aofskdfa')\n"
     ]
    }
   ],
   "source": [
    "try:\n",
    "    raise Exception(\"Error occured\", 'aofskdfa', 'aofskdfa')\n",
    "except Exception as e:\n",
    "    print(type(e))\n",
    "    print(e.args)"
   ]
  },
  {
   "cell_type": "code",
   "execution_count": null,
   "metadata": {},
   "outputs": [],
   "source": [
    "try:\n",
    "\n",
    "except:\n",
    "\n",
    "else:\n",
    "\n",
    "finally:\n",
    "\n",
    "    "
   ]
  },
  {
   "cell_type": "code",
   "execution_count": null,
   "metadata": {},
   "outputs": [
    {
     "name": "stdout",
     "output_type": "stream",
     "text": [
      "Cannot divide\n",
      "finally executed\n"
     ]
    }
   ],
   "source": [
    "try:\n",
    "    a = 1 / 0\n",
    "except ZeroDivisionError:\n",
    "    print(\"Cannot divide\")\n",
    "else:\n",
    "    print(a)\n",
    "finally:\n",
    "    print(\"finally executed\")"
   ]
  },
  {
   "cell_type": "code",
   "execution_count": null,
   "metadata": {},
   "outputs": [],
   "source": []
  }
 ],
 "metadata": {
  "kernelspec": {
   "display_name": "base",
   "language": "python",
   "name": "python3"
  },
  "language_info": {
   "codemirror_mode": {
    "name": "ipython",
    "version": 3
   },
   "file_extension": ".py",
   "mimetype": "text/x-python",
   "name": "python",
   "nbconvert_exporter": "python",
   "pygments_lexer": "ipython3",
   "version": "3.12.7"
  }
 },
 "nbformat": 4,
 "nbformat_minor": 2
}

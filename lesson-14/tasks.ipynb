{
 "cells": [
  {
   "cell_type": "code",
   "execution_count": 8,
   "metadata": {},
   "outputs": [],
   "source": [
    "matrix = np.array([1, 2, 3, 4, 5, 6, 7, 8, 9, 10, 11, 12, 13, 14, 15, 16])\n"
   ]
  },
  {
   "cell_type": "code",
   "execution_count": 7,
   "metadata": {},
   "outputs": [
    {
     "name": "stdout",
     "output_type": "stream",
     "text": [
      "[  0.          20.          37.77777778 100.          25.        ]\n"
     ]
    }
   ],
   "source": [
    "import numpy as np\n",
    "a = np.array([32,68,100,212,77])\n",
    "a = (a - 32) * ( 5 / 9 )\n",
    "print(a)"
   ]
  },
  {
   "cell_type": "code",
   "execution_count": 3,
   "metadata": {},
   "outputs": [],
   "source": [
    "from PIL import Image"
   ]
  },
  {
   "cell_type": "code",
   "execution_count": 14,
   "metadata": {},
   "outputs": [
    {
     "name": "stdout",
     "output_type": "stream",
     "text": [
      "[[[ 3  3  3]\n",
      "  [ 3  3  3]\n",
      "  [ 3  3  3]\n",
      "  ...\n",
      "  [ 2  2  2]\n",
      "  [ 2  2  2]\n",
      "  [ 2  2  2]]\n",
      "\n",
      " [[ 3  3  3]\n",
      "  [ 3  3  3]\n",
      "  [ 3  3  3]\n",
      "  ...\n",
      "  [ 2  2  2]\n",
      "  [ 2  2  2]\n",
      "  [ 2  2  2]]\n",
      "\n",
      " [[ 3  3  3]\n",
      "  [ 3  3  3]\n",
      "  [ 3  3  3]\n",
      "  ...\n",
      "  [ 2  2  2]\n",
      "  [ 2  2  2]\n",
      "  [ 2  2  2]]\n",
      "\n",
      " ...\n",
      "\n",
      " [[ 6  3 18]\n",
      "  [ 6  3 18]\n",
      "  [ 6  3 18]\n",
      "  ...\n",
      "  [ 2  2  2]\n",
      "  [ 2  2  2]\n",
      "  [ 2  2  2]]\n",
      "\n",
      " [[ 9  4 19]\n",
      "  [ 9  4 19]\n",
      "  [ 9  4 19]\n",
      "  ...\n",
      "  [ 2  2  2]\n",
      "  [ 2  2  2]\n",
      "  [ 2  2  2]]\n",
      "\n",
      " [[ 9  4 19]\n",
      "  [ 9  4 19]\n",
      "  [ 9  4 19]\n",
      "  ...\n",
      "  [ 2  2  2]\n",
      "  [ 2  2  2]\n",
      "  [ 2  2  2]]]\n",
      "RGB\n"
     ]
    }
   ],
   "source": [
    "with Image.open('image.jpg') as img:\n",
    "    arr = np.array(img)\n",
    "    print(arr)\n",
    "    print(img.mode)\n"
   ]
  },
  {
   "cell_type": "code",
   "execution_count": 13,
   "metadata": {},
   "outputs": [
    {
     "data": {
      "text/plain": [
       "(322, 537, 3)"
      ]
     },
     "execution_count": 13,
     "metadata": {},
     "output_type": "execute_result"
    }
   ],
   "source": [
    "arr.shape\n"
   ]
  },
  {
   "cell_type": "code",
   "execution_count": null,
   "metadata": {},
   "outputs": [],
   "source": []
  },
  {
   "cell_type": "code",
   "execution_count": null,
   "metadata": {},
   "outputs": [],
   "source": []
  },
  {
   "cell_type": "code",
   "execution_count": null,
   "metadata": {},
   "outputs": [],
   "source": []
  },
  {
   "cell_type": "code",
   "execution_count": null,
   "metadata": {},
   "outputs": [],
   "source": []
  },
  {
   "cell_type": "code",
   "execution_count": null,
   "metadata": {},
   "outputs": [],
   "source": []
  },
  {
   "cell_type": "code",
   "execution_count": null,
   "metadata": {},
   "outputs": [],
   "source": []
  },
  {
   "cell_type": "code",
   "execution_count": null,
   "metadata": {},
   "outputs": [],
   "source": []
  },
  {
   "cell_type": "code",
   "execution_count": null,
   "metadata": {},
   "outputs": [],
   "source": []
  },
  {
   "cell_type": "code",
   "execution_count": null,
   "metadata": {},
   "outputs": [],
   "source": []
  },
  {
   "cell_type": "code",
   "execution_count": null,
   "metadata": {},
   "outputs": [],
   "source": []
  },
  {
   "cell_type": "code",
   "execution_count": null,
   "metadata": {},
   "outputs": [],
   "source": []
  }
 ],
 "metadata": {
  "kernelspec": {
   "display_name": "base",
   "language": "python",
   "name": "python3"
  },
  "language_info": {
   "codemirror_mode": {
    "name": "ipython",
    "version": 3
   },
   "file_extension": ".py",
   "mimetype": "text/x-python",
   "name": "python",
   "nbconvert_exporter": "python",
   "pygments_lexer": "ipython3",
   "version": "3.12.7"
  }
 },
 "nbformat": 4,
 "nbformat_minor": 2
}
